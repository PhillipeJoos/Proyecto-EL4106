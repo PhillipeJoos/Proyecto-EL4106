{
 "cells": [
  {
   "cell_type": "code",
   "execution_count": null,
   "id": "69090f62",
   "metadata": {},
   "outputs": [],
   "source": [
    "import os\n",
    "import torchaudio\n",
    "from torch import nn\n",
    "import seaborn as sns\n",
    "from modules.models import RNNModel\n",
    "from modules.dataset import CustomSpeechCommands, FeaturesDataset\n",
    "from modules.trainer import train_model, show_curves, confusion_matrix_display, confusion_matrix\n"
   ]
  },
  {
   "cell_type": "code",
   "execution_count": null,
   "id": "f47cce70",
   "metadata": {},
   "outputs": [],
   "source": [
    "# ==== Paths ====\n",
    "ROOT_DIR = 'data'\n",
    "train_pt = os.path.join(ROOT_DIR, 'train.pt')\n",
    "val_pt = os.path.join(ROOT_DIR, 'val.pt')\n",
    "test_pt = os.path.join(ROOT_DIR, 'test.pt')\n",
    "TRAIN_LIST = os.path.join(ROOT_DIR,\"train_list.txt\")\n",
    "VAL_LIST = os.path.join(ROOT_DIR, \"val_list.txt\")\n",
    "TEST_LIST = os.path.join(ROOT_DIR, \"test_list.txt\")\n",
    "\n",
    "if not os.path.isfile(train_pt):\n",
    "    train_raw = CustomSpeechCommands(ROOT_DIR, TRAIN_LIST)\n",
    "    val_raw = CustomSpeechCommands(ROOT_DIR, VAL_LIST)\n",
    "    test_raw = CustomSpeechCommands(ROOT_DIR, TEST_LIST)\n",
    "    mfcc_transform = torchaudio.transforms.MFCC(\n",
    "        sample_rate=16000,\n",
    "        n_mfcc=13, # número de coeficientes MFCC a extraer\n",
    "        melkwargs={\"n_fft\": 320, \"hop_length\": 160, \"n_mels\": 23}, # 320 = 20ms, 160 = 10ms, 23 = número de filtros mel\n",
    "        log_mels = True\n",
    "    )\n",
    "    train_raw.save_features(mfcc_transform, train_pt)\n",
    "    test_raw.save_features(mfcc_transform, test_pt)\n",
    "    val_raw.save_features(mfcc_transform, val_pt)\n",
    "\n",
    "train_dataset = FeaturesDataset(train_pt)\n",
    "test_dataset = FeaturesDataset(test_pt)\n",
    "val_dataset = FeaturesDataset(val_pt)\n",
    "\n",
    "\n",
    "print(\"¡Datasets cargados exitosamente!\")\n",
    "print(f\"Train samples: {len(train_dataset)}\")\n",
    "print(f\"Validation samples: {len(val_dataset)}\")\n",
    "print(f\"Test samples: {len(test_dataset)}\")"
   ]
  },
  {
   "cell_type": "markdown",
   "id": "ab517a3b",
   "metadata": {},
   "source": [
    "# Entrenamiento"
   ]
  },
  {
   "cell_type": "code",
   "execution_count": null,
   "id": "a695a9c8",
   "metadata": {},
   "outputs": [],
   "source": [
    "print(train_dataset.features.shape)"
   ]
  },
  {
   "cell_type": "code",
   "execution_count": null,
   "id": "ce6895b0",
   "metadata": {},
   "outputs": [],
   "source": [
    "lr = 5e-4\n",
    "batch_size = 32\n",
    "criterion = nn.CrossEntropyLoss()\n",
    "n_trains = 5\n",
    "epochs = 40\n",
    "results = {}\n",
    "times_of_training = []\n",
    "models = []\n",
    "for k in range(n_trains):\n",
    "    print(f'Entrenando modelo {k}/{n_trains}')\n",
    "    model = RNNModel(rnn_type = 'LSTM', n_input_channels=13, hidd_size=64) # puede ser que sea util estudiar el hidden size, o sea reducirlo hasta que comience a afectar el rendimiento del modelo en val\n",
    "    all_curves, times = train_model(model, train_dataset, val_dataset, epochs, criterion, batch_size, lr, n_evaluations_per_epoch=3, use_gpu=True)\n",
    "    results[k] = all_curves\n",
    "    times_of_training.append(times)\n",
    "    models.append(model) # arreglar xd\n",
    "show_curves(results)\n"
   ]
  },
  {
   "cell_type": "code",
   "execution_count": null,
   "id": "1d2af0ea",
   "metadata": {},
   "outputs": [],
   "source": [
    "tags, models = models.keys(), models.items()\n",
    "confusion_matrix_display(tags, models, test_dataset, list(test_dataset.label_to_idx.keys()))\n"
   ]
  }
 ],
 "metadata": {
  "kernelspec": {
   "display_name": "proyecto (3.12.3)",
   "language": "python",
   "name": "python3"
  },
  "language_info": {
   "codemirror_mode": {
    "name": "ipython",
    "version": 3
   },
   "file_extension": ".py",
   "mimetype": "text/x-python",
   "name": "python",
   "nbconvert_exporter": "python",
   "pygments_lexer": "ipython3",
   "version": "3.12.3"
  }
 },
 "nbformat": 4,
 "nbformat_minor": 5
}
